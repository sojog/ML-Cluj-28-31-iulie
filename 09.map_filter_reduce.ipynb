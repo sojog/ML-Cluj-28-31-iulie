{
 "cells": [
  {
   "cell_type": "markdown",
   "id": "867c525f",
   "metadata": {},
   "source": [
    "# Map"
   ]
  },
  {
   "cell_type": "code",
   "execution_count": 1,
   "id": "16ae2703",
   "metadata": {},
   "outputs": [],
   "source": [
    "def aduna_doi(x):\n",
    "    return x + 2"
   ]
  },
  {
   "cell_type": "code",
   "execution_count": 2,
   "id": "7389551b",
   "metadata": {},
   "outputs": [],
   "source": [
    "colectie = [3, 321, 31, 41, 51, 54]\n"
   ]
  },
  {
   "cell_type": "code",
   "execution_count": 3,
   "id": "2269c711",
   "metadata": {},
   "outputs": [
    {
     "data": {
      "text/plain": [
       "<map at 0x1041ad8d0>"
      ]
     },
     "execution_count": 3,
     "metadata": {},
     "output_type": "execute_result"
    }
   ],
   "source": [
    "map(aduna_doi, colectie)"
   ]
  },
  {
   "cell_type": "code",
   "execution_count": 4,
   "id": "d5ae4b56",
   "metadata": {},
   "outputs": [
    {
     "data": {
      "text/plain": [
       "[5, 323, 33, 43, 53, 56]"
      ]
     },
     "execution_count": 4,
     "metadata": {},
     "output_type": "execute_result"
    }
   ],
   "source": [
    "list(map(aduna_doi, colectie))"
   ]
  },
  {
   "cell_type": "code",
   "execution_count": 6,
   "id": "b00a7568",
   "metadata": {},
   "outputs": [
    {
     "data": {
      "text/plain": [
       "[0, 318, 28, 38, 48, 51]"
      ]
     },
     "execution_count": 6,
     "metadata": {},
     "output_type": "execute_result"
    }
   ],
   "source": [
    "colectie = [3, 321, 31, 41, 51, 54]\n",
    "list(map(lambda x: x - 3 , colectie))"
   ]
  },
  {
   "cell_type": "markdown",
   "id": "06008de1",
   "metadata": {},
   "source": [
    "# Filtrare"
   ]
  },
  {
   "cell_type": "code",
   "execution_count": 7,
   "id": "7420318c",
   "metadata": {},
   "outputs": [],
   "source": [
    "colectie = [3, 321, 31, 41, 51, 54]"
   ]
  },
  {
   "cell_type": "code",
   "execution_count": 8,
   "id": "2fe8e96e",
   "metadata": {},
   "outputs": [],
   "source": [
    "def mai_mic_ca_100(x):\n",
    "    return x < 100"
   ]
  },
  {
   "cell_type": "code",
   "execution_count": 9,
   "id": "42e8ff4c",
   "metadata": {},
   "outputs": [
    {
     "data": {
      "text/plain": [
       "<filter at 0x104160850>"
      ]
     },
     "execution_count": 9,
     "metadata": {},
     "output_type": "execute_result"
    }
   ],
   "source": [
    "filter(mai_mic_ca_100, colectie)"
   ]
  },
  {
   "cell_type": "code",
   "execution_count": 10,
   "id": "4f8b23c2",
   "metadata": {},
   "outputs": [
    {
     "data": {
      "text/plain": [
       "[3, 31, 41, 51, 54]"
      ]
     },
     "execution_count": 10,
     "metadata": {},
     "output_type": "execute_result"
    }
   ],
   "source": [
    "list(filter(mai_mic_ca_100, colectie))"
   ]
  },
  {
   "cell_type": "code",
   "execution_count": 11,
   "id": "1a985395",
   "metadata": {},
   "outputs": [
    {
     "data": {
      "text/plain": [
       "[54]"
      ]
     },
     "execution_count": 11,
     "metadata": {},
     "output_type": "execute_result"
    }
   ],
   "source": [
    "colectie = [3, 321, 31, 41, 51, 54]\n",
    "list(filter(lambda x: x % 2 == 0, colectie))\n"
   ]
  },
  {
   "cell_type": "markdown",
   "id": "a356c7f1",
   "metadata": {},
   "source": [
    "# Reduce"
   ]
  },
  {
   "cell_type": "code",
   "execution_count": 13,
   "id": "6c3b6ee4",
   "metadata": {},
   "outputs": [],
   "source": [
    "from functools import reduce"
   ]
  },
  {
   "cell_type": "code",
   "execution_count": null,
   "id": "cccc537f",
   "metadata": {},
   "outputs": [],
   "source": [
    "colectie = [3, 321, 31, 41, 51, 54]\n",
    "\n",
    "# Ex adunare:\n",
    "# colectie = [324, 31, 41, 51, 54]\n",
    "# colectie = [355, 41, 51, 54]"
   ]
  },
  {
   "cell_type": "code",
   "execution_count": 15,
   "id": "d21d1205",
   "metadata": {},
   "outputs": [],
   "source": [
    "def adunare(x, y):\n",
    "    return x + y"
   ]
  },
  {
   "cell_type": "code",
   "execution_count": 16,
   "id": "5607285e",
   "metadata": {},
   "outputs": [
    {
     "data": {
      "text/plain": [
       "501"
      ]
     },
     "execution_count": 16,
     "metadata": {},
     "output_type": "execute_result"
    }
   ],
   "source": [
    "reduce(adunare, colectie)"
   ]
  },
  {
   "cell_type": "code",
   "execution_count": 17,
   "id": "f516f6db",
   "metadata": {},
   "outputs": [
    {
     "data": {
      "text/plain": [
       "321"
      ]
     },
     "execution_count": 17,
     "metadata": {},
     "output_type": "execute_result"
    }
   ],
   "source": [
    "reduce(lambda x, y: x if x > y else y, colectie)"
   ]
  },
  {
   "cell_type": "code",
   "execution_count": null,
   "id": "4f8229c2",
   "metadata": {},
   "outputs": [],
   "source": []
  }
 ],
 "metadata": {
  "kernelspec": {
   "display_name": "Python 3",
   "language": "python",
   "name": "python3"
  },
  "language_info": {
   "codemirror_mode": {
    "name": "ipython",
    "version": 3
   },
   "file_extension": ".py",
   "mimetype": "text/x-python",
   "name": "python",
   "nbconvert_exporter": "python",
   "pygments_lexer": "ipython3",
   "version": "3.13.3"
  }
 },
 "nbformat": 4,
 "nbformat_minor": 5
}
