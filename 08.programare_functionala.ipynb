{
 "cells": [
  {
   "cell_type": "code",
   "execution_count": 1,
   "id": "31ae64b1",
   "metadata": {},
   "outputs": [
    {
     "name": "stdout",
     "output_type": "stream",
     "text": [
      "Hello\n"
     ]
    }
   ],
   "source": [
    "print(\"Hello\")"
   ]
  },
  {
   "cell_type": "code",
   "execution_count": 2,
   "id": "2f053a26",
   "metadata": {},
   "outputs": [
    {
     "data": {
      "text/plain": [
       "<function print(*args, sep=' ', end='\\n', file=None, flush=False)>"
      ]
     },
     "execution_count": 2,
     "metadata": {},
     "output_type": "execute_result"
    }
   ],
   "source": [
    "print"
   ]
  },
  {
   "cell_type": "code",
   "execution_count": 3,
   "id": "7ddcdf05",
   "metadata": {},
   "outputs": [],
   "source": [
    "x = print"
   ]
  },
  {
   "cell_type": "code",
   "execution_count": 4,
   "id": "96b3a1f6",
   "metadata": {},
   "outputs": [
    {
     "data": {
      "text/plain": [
       "<function print(*args, sep=' ', end='\\n', file=None, flush=False)>"
      ]
     },
     "execution_count": 4,
     "metadata": {},
     "output_type": "execute_result"
    }
   ],
   "source": [
    "x"
   ]
  },
  {
   "cell_type": "code",
   "execution_count": 5,
   "id": "1a7ca7e0",
   "metadata": {},
   "outputs": [
    {
     "name": "stdout",
     "output_type": "stream",
     "text": [
      "Salutare\n"
     ]
    }
   ],
   "source": [
    "x (\"Salutare\")"
   ]
  },
  {
   "cell_type": "code",
   "execution_count": 6,
   "id": "8997e79c",
   "metadata": {},
   "outputs": [
    {
     "name": "stdout",
     "output_type": "stream",
     "text": [
      "Salutare Ce mai faci?\n"
     ]
    }
   ],
   "source": [
    "x (\"Salutare\", \"Ce mai faci?\")"
   ]
  },
  {
   "cell_type": "code",
   "execution_count": 7,
   "id": "cf322083",
   "metadata": {},
   "outputs": [],
   "source": [
    "\n",
    "def adunare(x, y):\n",
    "    return x + y\n",
    "\n",
    "def scadere(x, y):\n",
    "    return x - y\n",
    "\n",
    "def inmultire(x, y):\n",
    "    return x * y\n"
   ]
  },
  {
   "cell_type": "code",
   "execution_count": 11,
   "id": "977b0099",
   "metadata": {},
   "outputs": [],
   "source": [
    "def executa(functia, a, b):\n",
    "    return functia(a, b)"
   ]
  },
  {
   "cell_type": "code",
   "execution_count": 12,
   "id": "1f9b4afb",
   "metadata": {},
   "outputs": [
    {
     "name": "stdout",
     "output_type": "stream",
     "text": [
      "12\n"
     ]
    }
   ],
   "source": [
    "print(executa(adunare, 10, 2))"
   ]
  },
  {
   "cell_type": "code",
   "execution_count": 13,
   "id": "3d0179bd",
   "metadata": {},
   "outputs": [
    {
     "data": {
      "text/plain": [
       "3"
      ]
     },
     "execution_count": 13,
     "metadata": {},
     "output_type": "execute_result"
    }
   ],
   "source": [
    "executa(scadere, 12, 9)"
   ]
  },
  {
   "cell_type": "code",
   "execution_count": 14,
   "id": "c21e14a0",
   "metadata": {},
   "outputs": [
    {
     "data": {
      "text/plain": [
       "32"
      ]
     },
     "execution_count": 14,
     "metadata": {},
     "output_type": "execute_result"
    }
   ],
   "source": [
    "executa(inmultire, 16, 2)"
   ]
  },
  {
   "cell_type": "markdown",
   "id": "d1602a30",
   "metadata": {},
   "source": [
    "# Functia anonima"
   ]
  },
  {
   "cell_type": "code",
   "execution_count": 15,
   "id": "a752e535",
   "metadata": {},
   "outputs": [],
   "source": [
    "def ridica_la_putere(x, pow):\n",
    "    return x ** pow\n"
   ]
  },
  {
   "cell_type": "code",
   "execution_count": 16,
   "id": "7a502581",
   "metadata": {},
   "outputs": [
    {
     "data": {
      "text/plain": [
       "1000"
      ]
     },
     "execution_count": 16,
     "metadata": {},
     "output_type": "execute_result"
    }
   ],
   "source": [
    "ridica_la_putere(10, 3)"
   ]
  },
  {
   "cell_type": "code",
   "execution_count": 17,
   "id": "5022b53c",
   "metadata": {},
   "outputs": [
    {
     "data": {
      "text/plain": [
       "<function __main__.<lambda>(x, pow)>"
      ]
     },
     "execution_count": 17,
     "metadata": {},
     "output_type": "execute_result"
    }
   ],
   "source": [
    "lambda x, pow : x ** pow"
   ]
  },
  {
   "cell_type": "code",
   "execution_count": 18,
   "id": "a4765799",
   "metadata": {},
   "outputs": [],
   "source": [
    "ridica_anonim_la_putere = lambda x, pow : x ** pow"
   ]
  },
  {
   "cell_type": "code",
   "execution_count": 19,
   "id": "b38e6617",
   "metadata": {},
   "outputs": [
    {
     "data": {
      "text/plain": [
       "1000"
      ]
     },
     "execution_count": 19,
     "metadata": {},
     "output_type": "execute_result"
    }
   ],
   "source": [
    "ridica_anonim_la_putere(10, 3)"
   ]
  },
  {
   "cell_type": "code",
   "execution_count": 20,
   "id": "6bc3a049",
   "metadata": {},
   "outputs": [
    {
     "data": {
      "text/plain": [
       "121"
      ]
     },
     "execution_count": 20,
     "metadata": {},
     "output_type": "execute_result"
    }
   ],
   "source": [
    "ridica_anonim_la_putere(11, 2)"
   ]
  },
  {
   "cell_type": "code",
   "execution_count": null,
   "id": "ae2e3864",
   "metadata": {},
   "outputs": [],
   "source": []
  }
 ],
 "metadata": {
  "kernelspec": {
   "display_name": "Python 3",
   "language": "python",
   "name": "python3"
  },
  "language_info": {
   "codemirror_mode": {
    "name": "ipython",
    "version": 3
   },
   "file_extension": ".py",
   "mimetype": "text/x-python",
   "name": "python",
   "nbconvert_exporter": "python",
   "pygments_lexer": "ipython3",
   "version": "3.13.3"
  }
 },
 "nbformat": 4,
 "nbformat_minor": 5
}
