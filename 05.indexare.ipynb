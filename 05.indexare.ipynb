{
 "cells": [
  {
   "cell_type": "code",
   "execution_count": 1,
   "id": "d353e591",
   "metadata": {},
   "outputs": [
    {
     "data": {
      "text/plain": [
       "6"
      ]
     },
     "execution_count": 1,
     "metadata": {},
     "output_type": "execute_result"
    }
   ],
   "source": [
    "colectie = [123, 31, 3, 4, 5, 51]\n",
    "len(colectie)"
   ]
  },
  {
   "cell_type": "code",
   "execution_count": 2,
   "id": "6ddb54e0",
   "metadata": {},
   "outputs": [
    {
     "data": {
      "text/plain": [
       "123"
      ]
     },
     "execution_count": 2,
     "metadata": {},
     "output_type": "execute_result"
    }
   ],
   "source": [
    "colectie[0]"
   ]
  },
  {
   "cell_type": "code",
   "execution_count": 3,
   "id": "13a4d4d0",
   "metadata": {},
   "outputs": [
    {
     "data": {
      "text/plain": [
       "51"
      ]
     },
     "execution_count": 3,
     "metadata": {},
     "output_type": "execute_result"
    }
   ],
   "source": [
    "colectie[5]"
   ]
  },
  {
   "cell_type": "code",
   "execution_count": 4,
   "id": "d396bfb5",
   "metadata": {},
   "outputs": [
    {
     "data": {
      "text/plain": [
       "51"
      ]
     },
     "execution_count": 4,
     "metadata": {},
     "output_type": "execute_result"
    }
   ],
   "source": [
    "colectie[len(colectie) - 1]"
   ]
  },
  {
   "cell_type": "code",
   "execution_count": 5,
   "id": "c7caa19e",
   "metadata": {},
   "outputs": [
    {
     "data": {
      "text/plain": [
       "51"
      ]
     },
     "execution_count": 5,
     "metadata": {},
     "output_type": "execute_result"
    }
   ],
   "source": [
    "colectie[ - 1]"
   ]
  },
  {
   "cell_type": "code",
   "execution_count": 6,
   "id": "7c834516",
   "metadata": {},
   "outputs": [
    {
     "data": {
      "text/plain": [
       "5"
      ]
     },
     "execution_count": 6,
     "metadata": {},
     "output_type": "execute_result"
    }
   ],
   "source": [
    "colectie = [123, 31, 3, 4, 5, 51]\n",
    "colectie[-2]"
   ]
  },
  {
   "cell_type": "code",
   "execution_count": 7,
   "id": "e03151cf",
   "metadata": {},
   "outputs": [
    {
     "data": {
      "text/plain": [
       "123"
      ]
     },
     "execution_count": 7,
     "metadata": {},
     "output_type": "execute_result"
    }
   ],
   "source": [
    "colectie[-6]"
   ]
  },
  {
   "cell_type": "code",
   "execution_count": 8,
   "id": "3ac3bb6c",
   "metadata": {},
   "outputs": [],
   "source": [
    "text = \"Bine ati venit...!!!\""
   ]
  },
  {
   "cell_type": "code",
   "execution_count": 9,
   "id": "392c8354",
   "metadata": {},
   "outputs": [
    {
     "data": {
      "text/plain": [
       "'B'"
      ]
     },
     "execution_count": 9,
     "metadata": {},
     "output_type": "execute_result"
    }
   ],
   "source": [
    "text[0]"
   ]
  },
  {
   "cell_type": "code",
   "execution_count": 10,
   "id": "2df9d71f",
   "metadata": {},
   "outputs": [
    {
     "data": {
      "text/plain": [
       "'t'"
      ]
     },
     "execution_count": 10,
     "metadata": {},
     "output_type": "execute_result"
    }
   ],
   "source": [
    "text[-7]"
   ]
  },
  {
   "cell_type": "code",
   "execution_count": 11,
   "id": "529d0fa7",
   "metadata": {},
   "outputs": [
    {
     "data": {
      "text/plain": [
       "('B', ' ')"
      ]
     },
     "execution_count": 11,
     "metadata": {},
     "output_type": "execute_result"
    }
   ],
   "source": [
    "text[0], text[4]"
   ]
  },
  {
   "cell_type": "markdown",
   "id": "134ec8c6",
   "metadata": {},
   "source": [
    "# Slice"
   ]
  },
  {
   "cell_type": "code",
   "execution_count": 13,
   "id": "07153216",
   "metadata": {},
   "outputs": [
    {
     "data": {
      "text/plain": [
       "'Bine'"
      ]
     },
     "execution_count": 13,
     "metadata": {},
     "output_type": "execute_result"
    }
   ],
   "source": [
    "text[0:4]"
   ]
  },
  {
   "cell_type": "code",
   "execution_count": 14,
   "id": "0e62ff1c",
   "metadata": {},
   "outputs": [],
   "source": [
    "text = \"Bine ati venit...!!!\""
   ]
  },
  {
   "cell_type": "code",
   "execution_count": 15,
   "id": "7b5385c2",
   "metadata": {},
   "outputs": [
    {
     "data": {
      "text/plain": [
       "'ati'"
      ]
     },
     "execution_count": 15,
     "metadata": {},
     "output_type": "execute_result"
    }
   ],
   "source": [
    "text[5:8]"
   ]
  },
  {
   "cell_type": "code",
   "execution_count": 16,
   "id": "433895af",
   "metadata": {},
   "outputs": [
    {
     "data": {
      "text/plain": [
       "'venit'"
      ]
     },
     "execution_count": 16,
     "metadata": {},
     "output_type": "execute_result"
    }
   ],
   "source": [
    "text[-11:-6]"
   ]
  },
  {
   "cell_type": "code",
   "execution_count": 17,
   "id": "ce125dab",
   "metadata": {},
   "outputs": [
    {
     "data": {
      "text/plain": [
       "2"
      ]
     },
     "execution_count": 17,
     "metadata": {},
     "output_type": "execute_result"
    }
   ],
   "source": [
    "colectie = [[1, 2, 3], [4, 5, 6]]\n",
    "len(colectie)"
   ]
  },
  {
   "cell_type": "code",
   "execution_count": 18,
   "id": "3a63d2ca",
   "metadata": {},
   "outputs": [
    {
     "data": {
      "text/plain": [
       "[4, 5, 6]"
      ]
     },
     "execution_count": 18,
     "metadata": {},
     "output_type": "execute_result"
    }
   ],
   "source": [
    "colectie[1]"
   ]
  },
  {
   "cell_type": "code",
   "execution_count": 19,
   "id": "b5b37f9c",
   "metadata": {},
   "outputs": [
    {
     "data": {
      "text/plain": [
       "5"
      ]
     },
     "execution_count": 19,
     "metadata": {},
     "output_type": "execute_result"
    }
   ],
   "source": [
    "colectie[1][1]"
   ]
  },
  {
   "cell_type": "code",
   "execution_count": 21,
   "id": "772e8bf0",
   "metadata": {},
   "outputs": [
    {
     "data": {
      "text/plain": [
       "'ati venit...!!!'"
      ]
     },
     "execution_count": 21,
     "metadata": {},
     "output_type": "execute_result"
    }
   ],
   "source": [
    "text = \"Bine ati venit...!!!\"\n",
    "text[5:]\n"
   ]
  },
  {
   "cell_type": "code",
   "execution_count": 22,
   "id": "ce4c7a5a",
   "metadata": {},
   "outputs": [
    {
     "data": {
      "text/plain": [
       "'Bine'"
      ]
     },
     "execution_count": 22,
     "metadata": {},
     "output_type": "execute_result"
    }
   ],
   "source": [
    "text = \"Bine ati venit...!!!\"\n",
    "text[:4]"
   ]
  },
  {
   "cell_type": "code",
   "execution_count": 23,
   "id": "41238a57",
   "metadata": {},
   "outputs": [
    {
     "data": {
      "text/plain": [
       "'Bine ati venit...!!!'"
      ]
     },
     "execution_count": 23,
     "metadata": {},
     "output_type": "execute_result"
    }
   ],
   "source": [
    "text = \"Bine ati venit...!!!\"\n",
    "text[:]"
   ]
  },
  {
   "cell_type": "code",
   "execution_count": 24,
   "id": "29ac2a07",
   "metadata": {},
   "outputs": [
    {
     "data": {
      "text/plain": [
       "'!!!...tinev ita eniB'"
      ]
     },
     "execution_count": 24,
     "metadata": {},
     "output_type": "execute_result"
    }
   ],
   "source": [
    "text = \"Bine ati venit...!!!\"\n",
    "text[::-1]"
   ]
  },
  {
   "cell_type": "code",
   "execution_count": 25,
   "id": "4bea5e9b",
   "metadata": {},
   "outputs": [
    {
     "data": {
      "text/plain": [
       "'Bn t ei..!'"
      ]
     },
     "execution_count": 25,
     "metadata": {},
     "output_type": "execute_result"
    }
   ],
   "source": [
    "text = \"Bine ati venit...!!!\"\n",
    "text[::2]"
   ]
  },
  {
   "cell_type": "code",
   "execution_count": null,
   "id": "9d2bf8de",
   "metadata": {},
   "outputs": [],
   "source": []
  }
 ],
 "metadata": {
  "kernelspec": {
   "display_name": "Python 3",
   "language": "python",
   "name": "python3"
  },
  "language_info": {
   "codemirror_mode": {
    "name": "ipython",
    "version": 3
   },
   "file_extension": ".py",
   "mimetype": "text/x-python",
   "name": "python",
   "nbconvert_exporter": "python",
   "pygments_lexer": "ipython3",
   "version": "3.13.3"
  }
 },
 "nbformat": 4,
 "nbformat_minor": 5
}
