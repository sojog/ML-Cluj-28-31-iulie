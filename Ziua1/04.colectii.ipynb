{
 "cells": [
  {
   "cell_type": "markdown",
   "id": "bac9d204",
   "metadata": {},
   "source": [
    "# List"
   ]
  },
  {
   "cell_type": "code",
   "execution_count": 1,
   "id": "365953df",
   "metadata": {},
   "outputs": [
    {
     "name": "stdout",
     "output_type": "stream",
     "text": [
      "[12, 321, 421, 41, 4, 1, 12] <class 'list'>\n"
     ]
    }
   ],
   "source": [
    "colectie = [12, 321, 421, 41, 4, 1, 12]\n",
    "print(colectie, type(colectie))"
   ]
  },
  {
   "cell_type": "code",
   "execution_count": 2,
   "id": "d875689e",
   "metadata": {},
   "outputs": [
    {
     "name": "stdout",
     "output_type": "stream",
     "text": [
      "[12, 321, 421, 41, 4, 1, 12, 9999]\n"
     ]
    }
   ],
   "source": [
    "colectie.append(9999)\n",
    "print(colectie)"
   ]
  },
  {
   "cell_type": "code",
   "execution_count": 3,
   "id": "9a2b2ec2",
   "metadata": {},
   "outputs": [
    {
     "name": "stdout",
     "output_type": "stream",
     "text": [
      "[12, 321, 421, 41, 4, 1, 12, 9999, 'telefon']\n"
     ]
    }
   ],
   "source": [
    "colectie.append(\"telefon\")\n",
    "print(colectie)"
   ]
  },
  {
   "cell_type": "code",
   "execution_count": 4,
   "id": "5efbc88c",
   "metadata": {},
   "outputs": [
    {
     "name": "stdout",
     "output_type": "stream",
     "text": [
      "['apa', 12, 321, 421, 41, 4, 1, 12, 9999, 'telefon']\n"
     ]
    }
   ],
   "source": [
    "colectie.insert(0, \"apa\")\n",
    "print(colectie)"
   ]
  },
  {
   "cell_type": "code",
   "execution_count": 5,
   "id": "e8e52a2c",
   "metadata": {},
   "outputs": [
    {
     "name": "stdout",
     "output_type": "stream",
     "text": [
      "['apa', 12, 321, 'lumina', 421, 41, 4, 1, 12, 9999, 'telefon']\n"
     ]
    }
   ],
   "source": [
    "colectie.insert(3, \"lumina\")\n",
    "print(colectie)"
   ]
  },
  {
   "cell_type": "code",
   "execution_count": 6,
   "id": "3fcd54d0",
   "metadata": {},
   "outputs": [
    {
     "name": "stdout",
     "output_type": "stream",
     "text": [
      "['apa', 12, 321, 'lumina', 421, 41, 4, 1, 12, 9999]\n"
     ]
    }
   ],
   "source": [
    "colectie.pop()\n",
    "print(colectie)"
   ]
  },
  {
   "cell_type": "code",
   "execution_count": 7,
   "id": "4196d168",
   "metadata": {},
   "outputs": [
    {
     "name": "stdout",
     "output_type": "stream",
     "text": [
      "['apa', 321, 'lumina', 421, 41, 4, 1, 12, 9999]\n"
     ]
    }
   ],
   "source": [
    "colectie.pop(1)\n",
    "print(colectie)"
   ]
  },
  {
   "cell_type": "code",
   "execution_count": 8,
   "id": "afe8f9be",
   "metadata": {},
   "outputs": [
    {
     "data": {
      "text/plain": [
       "9"
      ]
     },
     "execution_count": 8,
     "metadata": {},
     "output_type": "execute_result"
    }
   ],
   "source": [
    "len(colectie)"
   ]
  },
  {
   "cell_type": "code",
   "execution_count": 9,
   "id": "be041ba1",
   "metadata": {},
   "outputs": [],
   "source": [
    "colectie.clear()"
   ]
  },
  {
   "cell_type": "code",
   "execution_count": 10,
   "id": "03bb23c0",
   "metadata": {},
   "outputs": [
    {
     "data": {
      "text/plain": [
       "[]"
      ]
     },
     "execution_count": 10,
     "metadata": {},
     "output_type": "execute_result"
    }
   ],
   "source": [
    "colectie"
   ]
  },
  {
   "cell_type": "code",
   "execution_count": 11,
   "id": "a9c902ea",
   "metadata": {},
   "outputs": [
    {
     "data": {
      "text/plain": [
       "0"
      ]
     },
     "execution_count": 11,
     "metadata": {},
     "output_type": "execute_result"
    }
   ],
   "source": [
    "len(colectie)"
   ]
  },
  {
   "cell_type": "code",
   "execution_count": 13,
   "id": "80d70dc3",
   "metadata": {},
   "outputs": [
    {
     "name": "stdout",
     "output_type": "stream",
     "text": [
      "321\n",
      "5352\n",
      "63\n"
     ]
    }
   ],
   "source": [
    "colectie = [321, 5352, 63]\n",
    "\n",
    "for i in colectie:\n",
    "    print(i)"
   ]
  },
  {
   "cell_type": "markdown",
   "id": "d198e4cc",
   "metadata": {},
   "source": [
    "# Tuple "
   ]
  },
  {
   "cell_type": "code",
   "execution_count": 14,
   "id": "2b4c00f9",
   "metadata": {},
   "outputs": [
    {
     "name": "stdout",
     "output_type": "stream",
     "text": [
      "(321, 5352, 63) <class 'tuple'>\n"
     ]
    }
   ],
   "source": [
    "colectie = (321, 5352, 63)\n",
    "print(colectie, type(colectie))\n",
    "\n"
   ]
  },
  {
   "cell_type": "code",
   "execution_count": 15,
   "id": "cd4fa006",
   "metadata": {},
   "outputs": [
    {
     "name": "stdout",
     "output_type": "stream",
     "text": [
      "3\n"
     ]
    }
   ],
   "source": [
    "colectie = (321, 5352, 63)\n",
    "print(len(colectie))"
   ]
  },
  {
   "cell_type": "markdown",
   "id": "071cf17e",
   "metadata": {},
   "source": [
    "tuple - este imutabil"
   ]
  },
  {
   "cell_type": "code",
   "execution_count": 16,
   "id": "0e4ba665",
   "metadata": {},
   "outputs": [
    {
     "ename": "AttributeError",
     "evalue": "'tuple' object has no attribute 'append'",
     "output_type": "error",
     "traceback": [
      "\u001b[31m---------------------------------------------------------------------------\u001b[39m",
      "\u001b[31mAttributeError\u001b[39m                            Traceback (most recent call last)",
      "\u001b[36mCell\u001b[39m\u001b[36m \u001b[39m\u001b[32mIn[16]\u001b[39m\u001b[32m, line 1\u001b[39m\n\u001b[32m----> \u001b[39m\u001b[32m1\u001b[39m \u001b[43mcolectie\u001b[49m\u001b[43m.\u001b[49m\u001b[43mappend\u001b[49m(\u001b[32m2\u001b[39m)\n",
      "\u001b[31mAttributeError\u001b[39m: 'tuple' object has no attribute 'append'"
     ]
    }
   ],
   "source": [
    "colectie.append(2)"
   ]
  },
  {
   "cell_type": "code",
   "execution_count": 18,
   "id": "d256bf47",
   "metadata": {},
   "outputs": [
    {
     "name": "stdout",
     "output_type": "stream",
     "text": [
      "(321, 5352, 63, 2)\n"
     ]
    }
   ],
   "source": [
    "colectie = (321, 5352, 63, 2)\n",
    "print(colectie)"
   ]
  },
  {
   "cell_type": "code",
   "execution_count": 19,
   "id": "0b160d43",
   "metadata": {},
   "outputs": [
    {
     "data": {
      "text/plain": [
       "(321, 5352, 63, 2)"
      ]
     },
     "execution_count": 19,
     "metadata": {},
     "output_type": "execute_result"
    }
   ],
   "source": [
    "colectie = (321, 5352, 63, 2)\n",
    "colectie"
   ]
  },
  {
   "cell_type": "markdown",
   "id": "b99c3efb",
   "metadata": {},
   "source": [
    "# Range"
   ]
  },
  {
   "cell_type": "code",
   "execution_count": 20,
   "id": "d07561bd",
   "metadata": {},
   "outputs": [
    {
     "name": "stdout",
     "output_type": "stream",
     "text": [
      "0\n",
      "1\n",
      "2\n"
     ]
    }
   ],
   "source": [
    "for i in range(3):\n",
    "    print(i)"
   ]
  },
  {
   "cell_type": "code",
   "execution_count": 21,
   "id": "1d2d998d",
   "metadata": {},
   "outputs": [
    {
     "name": "stdout",
     "output_type": "stream",
     "text": [
      "0\n",
      "1\n",
      "2\n",
      "3\n"
     ]
    }
   ],
   "source": [
    "for i in range(4):\n",
    "    print(i)"
   ]
  },
  {
   "cell_type": "code",
   "execution_count": 22,
   "id": "4c0d011f",
   "metadata": {},
   "outputs": [
    {
     "name": "stdout",
     "output_type": "stream",
     "text": [
      "2\n",
      "3\n"
     ]
    }
   ],
   "source": [
    "for i in range(2, 4):\n",
    "    print(i)"
   ]
  },
  {
   "cell_type": "code",
   "execution_count": 23,
   "id": "8b679df3",
   "metadata": {},
   "outputs": [
    {
     "name": "stdout",
     "output_type": "stream",
     "text": [
      "2 <class 'int'>\n",
      "3 <class 'int'>\n"
     ]
    }
   ],
   "source": [
    "for i in range(2, 4):\n",
    "    print(i, type(i))"
   ]
  },
  {
   "cell_type": "code",
   "execution_count": 25,
   "id": "dc122d06",
   "metadata": {},
   "outputs": [
    {
     "name": "stdout",
     "output_type": "stream",
     "text": [
      "20\n",
      "23\n",
      "26\n",
      "29\n",
      "32\n"
     ]
    }
   ],
   "source": [
    "for i in range(20, 35, 3):\n",
    "    print(i)"
   ]
  },
  {
   "cell_type": "code",
   "execution_count": 26,
   "id": "49a970e8",
   "metadata": {},
   "outputs": [
    {
     "data": {
      "text/plain": [
       "range(20, 35, 3)"
      ]
     },
     "execution_count": 26,
     "metadata": {},
     "output_type": "execute_result"
    }
   ],
   "source": [
    "range(20, 35, 3)"
   ]
  },
  {
   "cell_type": "code",
   "execution_count": 27,
   "id": "49a45d31",
   "metadata": {},
   "outputs": [
    {
     "data": {
      "text/plain": [
       "[20, 23, 26, 29, 32]"
      ]
     },
     "execution_count": 27,
     "metadata": {},
     "output_type": "execute_result"
    }
   ],
   "source": [
    "list(range(20, 35, 3))"
   ]
  },
  {
   "cell_type": "code",
   "execution_count": 28,
   "id": "829825d6",
   "metadata": {},
   "outputs": [
    {
     "data": {
      "text/plain": [
       "(20, 23, 26, 29, 32)"
      ]
     },
     "execution_count": 28,
     "metadata": {},
     "output_type": "execute_result"
    }
   ],
   "source": [
    "tuple(range(20, 35, 3))"
   ]
  },
  {
   "cell_type": "markdown",
   "id": "d3a1edb9",
   "metadata": {},
   "source": [
    "# String - tot o colectie"
   ]
  },
  {
   "cell_type": "code",
   "execution_count": 30,
   "id": "2267f0ae",
   "metadata": {},
   "outputs": [
    {
     "name": "stdout",
     "output_type": "stream",
     "text": [
      "a\n",
      "r\n",
      "t\n",
      "a\n"
     ]
    }
   ],
   "source": [
    "for i in \"arta\":\n",
    "    print(i)"
   ]
  },
  {
   "cell_type": "code",
   "execution_count": 31,
   "id": "1834b2ed",
   "metadata": {},
   "outputs": [
    {
     "data": {
      "text/plain": [
       "['h', 'e', 'l', 'l', 'o']"
      ]
     },
     "execution_count": 31,
     "metadata": {},
     "output_type": "execute_result"
    }
   ],
   "source": [
    "list(\"hello\")"
   ]
  }
 ],
 "metadata": {
  "kernelspec": {
   "display_name": "Python 3",
   "language": "python",
   "name": "python3"
  },
  "language_info": {
   "codemirror_mode": {
    "name": "ipython",
    "version": 3
   },
   "file_extension": ".py",
   "mimetype": "text/x-python",
   "name": "python",
   "nbconvert_exporter": "python",
   "pygments_lexer": "ipython3",
   "version": "3.13.3"
  }
 },
 "nbformat": 4,
 "nbformat_minor": 5
}
