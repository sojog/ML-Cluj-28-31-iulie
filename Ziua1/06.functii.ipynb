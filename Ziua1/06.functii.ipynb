{
 "cells": [
  {
   "cell_type": "code",
   "execution_count": 1,
   "id": "8a3c62a6",
   "metadata": {},
   "outputs": [
    {
     "name": "stdout",
     "output_type": "stream",
     "text": [
      "31\n"
     ]
    }
   ],
   "source": [
    "print(\"31\")"
   ]
  },
  {
   "cell_type": "code",
   "execution_count": 2,
   "id": "20ec72d8",
   "metadata": {},
   "outputs": [
    {
     "name": "stdout",
     "output_type": "stream",
     "text": [
      "Ai introdus: 32\n"
     ]
    }
   ],
   "source": [
    "x = input(\"Introduceti un numar\")\n",
    "print(\"Ai introdus:\", x)"
   ]
  },
  {
   "cell_type": "code",
   "execution_count": 3,
   "id": "184cc372",
   "metadata": {},
   "outputs": [],
   "source": [
    "def adunare(x, y):\n",
    "    return x + y"
   ]
  },
  {
   "cell_type": "code",
   "execution_count": 4,
   "id": "83729221",
   "metadata": {},
   "outputs": [
    {
     "data": {
      "text/plain": [
       "5"
      ]
     },
     "execution_count": 4,
     "metadata": {},
     "output_type": "execute_result"
    }
   ],
   "source": [
    "adunare(2, 3)"
   ]
  },
  {
   "cell_type": "code",
   "execution_count": 5,
   "id": "c8669295",
   "metadata": {},
   "outputs": [],
   "source": [
    "def functie_fara_return(x, y):\n",
    "    print(x + y)"
   ]
  },
  {
   "cell_type": "code",
   "execution_count": 6,
   "id": "a48459e4",
   "metadata": {},
   "outputs": [
    {
     "name": "stdout",
     "output_type": "stream",
     "text": [
      "5\n"
     ]
    }
   ],
   "source": [
    "rezultat = functie_fara_return(2, 3)"
   ]
  },
  {
   "cell_type": "code",
   "execution_count": 7,
   "id": "12438a2c",
   "metadata": {},
   "outputs": [
    {
     "name": "stdout",
     "output_type": "stream",
     "text": [
      "None\n"
     ]
    }
   ],
   "source": [
    "print(rezultat)"
   ]
  },
  {
   "cell_type": "code",
   "execution_count": 8,
   "id": "507d91fe",
   "metadata": {},
   "outputs": [],
   "source": [
    "def scadere(x, y):\n",
    "    return x - y"
   ]
  },
  {
   "cell_type": "code",
   "execution_count": 12,
   "id": "535e44ff",
   "metadata": {},
   "outputs": [
    {
     "data": {
      "text/plain": [
       "0"
      ]
     },
     "execution_count": 12,
     "metadata": {},
     "output_type": "execute_result"
    }
   ],
   "source": [
    "scadere(30, 30)"
   ]
  },
  {
   "cell_type": "code",
   "execution_count": 13,
   "id": "d28bb5c9",
   "metadata": {},
   "outputs": [],
   "source": [
    "def cel_mai_mare_numar( *argumente):\n",
    "    print(\"Argumente:\", argumente, \"tipul lor:\", type(argumente))"
   ]
  },
  {
   "cell_type": "code",
   "execution_count": 14,
   "id": "663b18a0",
   "metadata": {},
   "outputs": [
    {
     "name": "stdout",
     "output_type": "stream",
     "text": [
      "Argumente: () tipul lor: <class 'tuple'>\n"
     ]
    }
   ],
   "source": [
    "cel_mai_mare_numar()"
   ]
  },
  {
   "cell_type": "code",
   "execution_count": 15,
   "id": "9656af11",
   "metadata": {},
   "outputs": [
    {
     "name": "stdout",
     "output_type": "stream",
     "text": [
      "Argumente: (2,) tipul lor: <class 'tuple'>\n"
     ]
    }
   ],
   "source": [
    "cel_mai_mare_numar(2)"
   ]
  },
  {
   "cell_type": "code",
   "execution_count": 16,
   "id": "106ea21b",
   "metadata": {},
   "outputs": [
    {
     "name": "stdout",
     "output_type": "stream",
     "text": [
      "Argumente: (2, 45, 41, 312) tipul lor: <class 'tuple'>\n"
     ]
    }
   ],
   "source": [
    "cel_mai_mare_numar(2, 45, 41, 312)"
   ]
  },
  {
   "cell_type": "code",
   "execution_count": 17,
   "id": "215483cf",
   "metadata": {},
   "outputs": [
    {
     "name": "stdout",
     "output_type": "stream",
     "text": [
      "30 321 312 31 312 5 3 52 5 4 2\n"
     ]
    }
   ],
   "source": [
    "print(30, 321, 312, 31, 312, 5,3, 52,5 ,4, 2)"
   ]
  },
  {
   "cell_type": "code",
   "execution_count": 18,
   "id": "98e37a0e",
   "metadata": {},
   "outputs": [],
   "source": [
    "def functie_cu_parametri(x, y, *args, **kargs):\n",
    "    print(\"x=\", x)\n",
    "    print(\"y=\", y)\n",
    "    print(\"args:\", args, \"type(args)\", type(args))\n",
    "    print(\"kargs:\", kargs, \"type(kargs)\", type(kargs))"
   ]
  },
  {
   "cell_type": "code",
   "execution_count": 22,
   "id": "b0333341",
   "metadata": {},
   "outputs": [
    {
     "name": "stdout",
     "output_type": "stream",
     "text": [
      "x= 10\n",
      "y= 2\n",
      "args: (30, 30, 31) type(args) <class 'tuple'>\n",
      "kargs: {'a': 2, 'b': 200} type(kargs) <class 'dict'>\n"
     ]
    }
   ],
   "source": [
    "functie_cu_parametri(10, 2, 30, 30, 31, a=2, b=200)"
   ]
  },
  {
   "cell_type": "code",
   "execution_count": null,
   "id": "a6eedd19",
   "metadata": {},
   "outputs": [],
   "source": []
  }
 ],
 "metadata": {
  "kernelspec": {
   "display_name": "Python 3",
   "language": "python",
   "name": "python3"
  },
  "language_info": {
   "codemirror_mode": {
    "name": "ipython",
    "version": 3
   },
   "file_extension": ".py",
   "mimetype": "text/x-python",
   "name": "python",
   "nbconvert_exporter": "python",
   "pygments_lexer": "ipython3",
   "version": "3.13.3"
  }
 },
 "nbformat": 4,
 "nbformat_minor": 5
}
