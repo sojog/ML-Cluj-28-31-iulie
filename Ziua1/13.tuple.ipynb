{
 "cells": [
  {
   "cell_type": "code",
   "execution_count": 1,
   "id": "21509110",
   "metadata": {},
   "outputs": [
    {
     "name": "stdout",
     "output_type": "stream",
     "text": [
      "() <class 'tuple'>\n"
     ]
    }
   ],
   "source": [
    "a_tuple = ()\n",
    "print(a_tuple, type(a_tuple))"
   ]
  },
  {
   "cell_type": "code",
   "execution_count": 2,
   "id": "bc040635",
   "metadata": {},
   "outputs": [
    {
     "name": "stdout",
     "output_type": "stream",
     "text": [
      "(32, 32, 1) <class 'tuple'>\n"
     ]
    }
   ],
   "source": [
    "a_tuple = (32, 32, 1 )\n",
    "print(a_tuple, type(a_tuple))"
   ]
  },
  {
   "cell_type": "code",
   "execution_count": 3,
   "id": "6dd6ba4a",
   "metadata": {},
   "outputs": [
    {
     "name": "stdout",
     "output_type": "stream",
     "text": [
      "(32, 32, 1) <class 'tuple'>\n"
     ]
    }
   ],
   "source": [
    "a_tuple = (32, 32, 1, )\n",
    "print(a_tuple, type(a_tuple))"
   ]
  },
  {
   "cell_type": "code",
   "execution_count": 4,
   "id": "8a1893c8",
   "metadata": {},
   "outputs": [
    {
     "name": "stdout",
     "output_type": "stream",
     "text": [
      "23 <class 'int'>\n"
     ]
    }
   ],
   "source": [
    "a_tuple = (23)\n",
    "print(a_tuple, type(a_tuple))"
   ]
  },
  {
   "cell_type": "code",
   "execution_count": 5,
   "id": "8c29efd6",
   "metadata": {},
   "outputs": [
    {
     "name": "stdout",
     "output_type": "stream",
     "text": [
      "23 <class 'int'>\n"
     ]
    }
   ],
   "source": [
    "a_tuple = (((((23)))))\n",
    "print(a_tuple, type(a_tuple))"
   ]
  },
  {
   "cell_type": "code",
   "execution_count": 6,
   "id": "99601a77",
   "metadata": {},
   "outputs": [
    {
     "name": "stdout",
     "output_type": "stream",
     "text": [
      "(23,) <class 'tuple'>\n"
     ]
    }
   ],
   "source": [
    "a_tuple = (((((23,)))))\n",
    "print(a_tuple, type(a_tuple))"
   ]
  },
  {
   "cell_type": "code",
   "execution_count": null,
   "id": "37ee0c2f",
   "metadata": {},
   "outputs": [],
   "source": []
  }
 ],
 "metadata": {
  "kernelspec": {
   "display_name": "Python 3",
   "language": "python",
   "name": "python3"
  },
  "language_info": {
   "codemirror_mode": {
    "name": "ipython",
    "version": 3
   },
   "file_extension": ".py",
   "mimetype": "text/x-python",
   "name": "python",
   "nbconvert_exporter": "python",
   "pygments_lexer": "ipython3",
   "version": "3.13.3"
  }
 },
 "nbformat": 4,
 "nbformat_minor": 5
}
