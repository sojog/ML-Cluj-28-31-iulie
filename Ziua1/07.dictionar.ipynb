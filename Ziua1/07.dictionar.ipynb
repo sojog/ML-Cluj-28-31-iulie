{
 "cells": [
  {
   "cell_type": "code",
   "execution_count": 1,
   "id": "5485ed92",
   "metadata": {},
   "outputs": [],
   "source": [
    "d = {\n",
    "    \"a\":3, \"b\":30, \"c\":100\n",
    "}"
   ]
  },
  {
   "cell_type": "code",
   "execution_count": 2,
   "id": "a3152e1d",
   "metadata": {},
   "outputs": [
    {
     "data": {
      "text/plain": [
       "({'a': 3, 'b': 30, 'c': 100}, dict)"
      ]
     },
     "execution_count": 2,
     "metadata": {},
     "output_type": "execute_result"
    }
   ],
   "source": [
    "d, type(d)"
   ]
  },
  {
   "cell_type": "code",
   "execution_count": 3,
   "id": "3584b485",
   "metadata": {},
   "outputs": [
    {
     "name": "stdout",
     "output_type": "stream",
     "text": [
      "a\n",
      "b\n",
      "c\n"
     ]
    }
   ],
   "source": [
    "for i in d:\n",
    "    print(i)"
   ]
  },
  {
   "cell_type": "code",
   "execution_count": 4,
   "id": "6dc0dbb8",
   "metadata": {},
   "outputs": [
    {
     "data": {
      "text/plain": [
       "3"
      ]
     },
     "execution_count": 4,
     "metadata": {},
     "output_type": "execute_result"
    }
   ],
   "source": [
    "len(d)"
   ]
  },
  {
   "cell_type": "code",
   "execution_count": 8,
   "id": "5d9294d3",
   "metadata": {},
   "outputs": [],
   "source": [
    "d = {\n",
    "    \"a\":3, \"b\":30, \"c\":100, \"cheie\":\"valoare\"\n",
    "}"
   ]
  },
  {
   "cell_type": "code",
   "execution_count": 9,
   "id": "2ee8aaec",
   "metadata": {},
   "outputs": [
    {
     "data": {
      "text/plain": [
       "3"
      ]
     },
     "execution_count": 9,
     "metadata": {},
     "output_type": "execute_result"
    }
   ],
   "source": [
    "d[\"a\"]"
   ]
  },
  {
   "cell_type": "code",
   "execution_count": 10,
   "id": "18f51395",
   "metadata": {},
   "outputs": [
    {
     "data": {
      "text/plain": [
       "'valoare'"
      ]
     },
     "execution_count": 10,
     "metadata": {},
     "output_type": "execute_result"
    }
   ],
   "source": [
    "d[\"cheie\"]"
   ]
  },
  {
   "cell_type": "code",
   "execution_count": null,
   "id": "0bc3f2ed",
   "metadata": {},
   "outputs": [],
   "source": []
  }
 ],
 "metadata": {
  "kernelspec": {
   "display_name": "Python 3",
   "language": "python",
   "name": "python3"
  },
  "language_info": {
   "codemirror_mode": {
    "name": "ipython",
    "version": 3
   },
   "file_extension": ".py",
   "mimetype": "text/x-python",
   "name": "python",
   "nbconvert_exporter": "python",
   "pygments_lexer": "ipython3",
   "version": "3.13.3"
  }
 },
 "nbformat": 4,
 "nbformat_minor": 5
}
