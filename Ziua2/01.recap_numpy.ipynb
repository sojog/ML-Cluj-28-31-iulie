{
 "cells": [
  {
   "cell_type": "code",
   "execution_count": 1,
   "id": "24efa0a0",
   "metadata": {},
   "outputs": [],
   "source": [
    "import numpy as np"
   ]
  },
  {
   "cell_type": "code",
   "execution_count": 2,
   "id": "4cc4f345",
   "metadata": {},
   "outputs": [
    {
     "data": {
      "text/plain": [
       "array([2, 3, 4, 5])"
      ]
     },
     "execution_count": 2,
     "metadata": {},
     "output_type": "execute_result"
    }
   ],
   "source": [
    "np.array([2, 3, 4, 5])"
   ]
  },
  {
   "cell_type": "code",
   "execution_count": 3,
   "id": "9f7d1964",
   "metadata": {},
   "outputs": [
    {
     "data": {
      "text/plain": [
       "array([10, 11, 12, 13, 14, 15, 16, 17, 18, 19])"
      ]
     },
     "execution_count": 3,
     "metadata": {},
     "output_type": "execute_result"
    }
   ],
   "source": [
    "np.arange(10, 20)"
   ]
  },
  {
   "cell_type": "code",
   "execution_count": 4,
   "id": "ceaea282",
   "metadata": {},
   "outputs": [
    {
     "data": {
      "text/plain": [
       "(array([10, 11, 12, 13, 14, 15, 16, 17, 18, 19]),\n",
       " 10,\n",
       " np.int64(10),\n",
       " np.int64(19))"
      ]
     },
     "execution_count": 4,
     "metadata": {},
     "output_type": "execute_result"
    }
   ],
   "source": [
    "array = np.arange(10, 20)\n",
    "array, array.size, array.min(), array.max()"
   ]
  },
  {
   "cell_type": "code",
   "execution_count": 5,
   "id": "7118c073",
   "metadata": {},
   "outputs": [
    {
     "data": {
      "text/plain": [
       "array([92, 10, 14, 75, 87, 14, 63,  6, 28, 21])"
      ]
     },
     "execution_count": 5,
     "metadata": {},
     "output_type": "execute_result"
    }
   ],
   "source": [
    "array = np.random.randint(1, 100, 10)\n",
    "array"
   ]
  },
  {
   "cell_type": "code",
   "execution_count": 6,
   "id": "f581edc5",
   "metadata": {},
   "outputs": [
    {
     "data": {
      "text/plain": [
       "array([ True, False, False,  True,  True, False,  True, False, False,\n",
       "       False])"
      ]
     },
     "execution_count": 6,
     "metadata": {},
     "output_type": "execute_result"
    }
   ],
   "source": [
    "array > 50"
   ]
  },
  {
   "cell_type": "code",
   "execution_count": 9,
   "id": "b69c50a5",
   "metadata": {},
   "outputs": [
    {
     "data": {
      "text/plain": [
       "array([10, 14, 14,  6, 28, 21])"
      ]
     },
     "execution_count": 9,
     "metadata": {},
     "output_type": "execute_result"
    }
   ],
   "source": [
    "array[array < 50]"
   ]
  },
  {
   "cell_type": "code",
   "execution_count": 12,
   "id": "dd50f2f3",
   "metadata": {},
   "outputs": [
    {
     "data": {
      "text/plain": [
       "array([14, 14, 28, 21])"
      ]
     },
     "execution_count": 12,
     "metadata": {},
     "output_type": "execute_result"
    }
   ],
   "source": [
    "array[(array < 50) & (array > 10)]"
   ]
  },
  {
   "cell_type": "code",
   "execution_count": 13,
   "id": "868c36df",
   "metadata": {},
   "outputs": [
    {
     "data": {
      "text/plain": [
       "array([92, 75, 87, 63,  6])"
      ]
     },
     "execution_count": 13,
     "metadata": {},
     "output_type": "execute_result"
    }
   ],
   "source": [
    "array[(array > 50) | (array < 10)]"
   ]
  },
  {
   "cell_type": "code",
   "execution_count": 14,
   "id": "7e948f4e",
   "metadata": {},
   "outputs": [
    {
     "data": {
      "text/plain": [
       "array([13, 39, 90, 10, 86, 70, 53,  4, 26, 91])"
      ]
     },
     "execution_count": 14,
     "metadata": {},
     "output_type": "execute_result"
    }
   ],
   "source": [
    "array = np.random.randint(1, 100, 10) \n",
    "array"
   ]
  },
  {
   "cell_type": "code",
   "execution_count": 15,
   "id": "3d7b8a79",
   "metadata": {},
   "outputs": [
    {
     "data": {
      "text/plain": [
       "array([ 26,  78, 180,  20, 172, 140, 106,   8,  52, 182])"
      ]
     },
     "execution_count": 15,
     "metadata": {},
     "output_type": "execute_result"
    }
   ],
   "source": [
    "array * 2"
   ]
  },
  {
   "cell_type": "code",
   "execution_count": 16,
   "id": "88dc1e53",
   "metadata": {},
   "outputs": [
    {
     "data": {
      "text/plain": [
       "array([13, 39, 90, 10])"
      ]
     },
     "execution_count": 16,
     "metadata": {},
     "output_type": "execute_result"
    }
   ],
   "source": [
    "array[:4]"
   ]
  },
  {
   "cell_type": "code",
   "execution_count": 17,
   "id": "f6801367",
   "metadata": {},
   "outputs": [
    {
     "data": {
      "text/plain": [
       "array([[60, 21, 34],\n",
       "       [72,  1, 28],\n",
       "       [81, 46, 93]])"
      ]
     },
     "execution_count": 17,
     "metadata": {},
     "output_type": "execute_result"
    }
   ],
   "source": [
    "array = np.random.randint(1, 100, (3, 3)) \n",
    "array"
   ]
  },
  {
   "cell_type": "code",
   "execution_count": 18,
   "id": "d66b1dd1",
   "metadata": {},
   "outputs": [
    {
     "data": {
      "text/plain": [
       "array([72,  1, 28])"
      ]
     },
     "execution_count": 18,
     "metadata": {},
     "output_type": "execute_result"
    }
   ],
   "source": [
    "array[1]"
   ]
  },
  {
   "cell_type": "code",
   "execution_count": 20,
   "id": "59489467",
   "metadata": {},
   "outputs": [
    {
     "data": {
      "text/plain": [
       "np.int64(28)"
      ]
     },
     "execution_count": 20,
     "metadata": {},
     "output_type": "execute_result"
    }
   ],
   "source": [
    "array[1][2]"
   ]
  },
  {
   "cell_type": "code",
   "execution_count": 21,
   "id": "3899af3c",
   "metadata": {},
   "outputs": [
    {
     "data": {
      "text/plain": [
       "np.int64(28)"
      ]
     },
     "execution_count": 21,
     "metadata": {},
     "output_type": "execute_result"
    }
   ],
   "source": [
    "array[1, 2]"
   ]
  },
  {
   "cell_type": "markdown",
   "id": "344f097e",
   "metadata": {},
   "source": [
    "# Exercitiul an bisect"
   ]
  },
  {
   "cell_type": "code",
   "execution_count": null,
   "id": "fb86b579",
   "metadata": {},
   "outputs": [],
   "source": []
  }
 ],
 "metadata": {
  "kernelspec": {
   "display_name": "Python 3",
   "language": "python",
   "name": "python3"
  },
  "language_info": {
   "codemirror_mode": {
    "name": "ipython",
    "version": 3
   },
   "file_extension": ".py",
   "mimetype": "text/x-python",
   "name": "python",
   "nbconvert_exporter": "python",
   "pygments_lexer": "ipython3",
   "version": "3.13.3"
  }
 },
 "nbformat": 4,
 "nbformat_minor": 5
}
