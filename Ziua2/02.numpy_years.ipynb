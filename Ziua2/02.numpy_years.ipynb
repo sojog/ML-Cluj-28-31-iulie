{
 "cells": [
  {
   "cell_type": "code",
   "execution_count": 1,
   "id": "b90c069f",
   "metadata": {},
   "outputs": [],
   "source": [
    "import numpy as np"
   ]
  },
  {
   "cell_type": "code",
   "execution_count": 3,
   "id": "cdab59a8",
   "metadata": {},
   "outputs": [
    {
     "data": {
      "text/plain": [
       "425"
      ]
     },
     "execution_count": 3,
     "metadata": {},
     "output_type": "execute_result"
    }
   ],
   "source": [
    "start_date = 1600\n",
    "stop_date = 2024\n",
    "\n",
    "\n",
    "years = np.arange(start_date, stop_date + 1)\n",
    "years.size"
   ]
  },
  {
   "cell_type": "code",
   "execution_count": 9,
   "id": "10ed0d7e",
   "metadata": {},
   "outputs": [],
   "source": [
    "conditie1 = years % 400 == 0 \n",
    "conditie1.size, conditie1.shape\n",
    "\n",
    "conditie2 = (years % 100 != 0) & (years % 4 == 0)\n",
    "\n",
    "years = years[conditie1 | conditie2]"
   ]
  },
  {
   "cell_type": "code",
   "execution_count": 10,
   "id": "47a083ea",
   "metadata": {},
   "outputs": [
    {
     "data": {
      "text/plain": [
       "array([1600, 1604, 1608, 1612, 1616, 1620, 1624, 1628, 1632, 1636, 1640,\n",
       "       1644, 1648, 1652, 1656, 1660, 1664, 1668, 1672, 1676, 1680, 1684,\n",
       "       1688, 1692, 1696, 1704, 1708, 1712, 1716, 1720, 1724, 1728, 1732,\n",
       "       1736, 1740, 1744, 1748, 1752, 1756, 1760, 1764, 1768, 1772, 1776,\n",
       "       1780, 1784, 1788, 1792, 1796, 1804, 1808, 1812, 1816, 1820, 1824,\n",
       "       1828, 1832, 1836, 1840, 1844, 1848, 1852, 1856, 1860, 1864, 1868,\n",
       "       1872, 1876, 1880, 1884, 1888, 1892, 1896, 1904, 1908, 1912, 1916,\n",
       "       1920, 1924, 1928, 1932, 1936, 1940, 1944, 1948, 1952, 1956, 1960,\n",
       "       1964, 1968, 1972, 1976, 1980, 1984, 1988, 1992, 1996, 2000, 2004,\n",
       "       2008, 2012, 2016, 2020, 2024])"
      ]
     },
     "execution_count": 10,
     "metadata": {},
     "output_type": "execute_result"
    }
   ],
   "source": [
    "years"
   ]
  },
  {
   "cell_type": "code",
   "execution_count": null,
   "id": "8d8d52fb",
   "metadata": {},
   "outputs": [],
   "source": []
  }
 ],
 "metadata": {
  "kernelspec": {
   "display_name": "Python 3",
   "language": "python",
   "name": "python3"
  },
  "language_info": {
   "codemirror_mode": {
    "name": "ipython",
    "version": 3
   },
   "file_extension": ".py",
   "mimetype": "text/x-python",
   "name": "python",
   "nbconvert_exporter": "python",
   "pygments_lexer": "ipython3",
   "version": "3.13.3"
  }
 },
 "nbformat": 4,
 "nbformat_minor": 5
}
