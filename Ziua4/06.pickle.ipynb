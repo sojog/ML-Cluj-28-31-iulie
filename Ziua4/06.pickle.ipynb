{
 "cells": [
  {
   "cell_type": "code",
   "execution_count": 2,
   "id": "26c03db5",
   "metadata": {},
   "outputs": [],
   "source": [
    "import pickle\n",
    "import modul_propriu"
   ]
  },
  {
   "cell_type": "code",
   "execution_count": 3,
   "id": "3f47057e",
   "metadata": {},
   "outputs": [
    {
     "data": {
      "text/plain": [
       "<modul_propriu.Model at 0x10800d2b0>"
      ]
     },
     "execution_count": 3,
     "metadata": {},
     "output_type": "execute_result"
    }
   ],
   "source": [
    "obietul_meu = modul_propriu.Model(\"RFC\", \"1.23.4\")\n",
    "obietul_meu"
   ]
  },
  {
   "cell_type": "code",
   "execution_count": 4,
   "id": "06441d76",
   "metadata": {},
   "outputs": [
    {
     "name": "stdout",
     "output_type": "stream",
     "text": [
      "Modelul cu numele RFC are versiunea 1.23.4\n"
     ]
    }
   ],
   "source": [
    "print(obietul_meu)"
   ]
  },
  {
   "cell_type": "code",
   "execution_count": 5,
   "id": "1b28f11b",
   "metadata": {},
   "outputs": [],
   "source": [
    "with open(\"obiect.pkl\", \"wb\") as fwriter:\n",
    "    pickle.dump(obietul_meu, fwriter)"
   ]
  },
  {
   "cell_type": "code",
   "execution_count": 6,
   "id": "e85af0f3",
   "metadata": {},
   "outputs": [
    {
     "name": "stdout",
     "output_type": "stream",
     "text": [
      "Modelul cu numele RFC are versiunea 1.23.4\n"
     ]
    }
   ],
   "source": [
    "\n",
    "with open(\"obiect.pkl\", \"rb\") as freader:\n",
    "    x = pickle.load(freader)\n",
    "    print(x)\n"
   ]
  },
  {
   "cell_type": "code",
   "execution_count": 7,
   "id": "88987320",
   "metadata": {},
   "outputs": [
    {
     "data": {
      "text/plain": [
       "modul_propriu.Model"
      ]
     },
     "execution_count": 7,
     "metadata": {},
     "output_type": "execute_result"
    }
   ],
   "source": [
    "type(x)"
   ]
  },
  {
   "cell_type": "code",
   "execution_count": null,
   "id": "03656281",
   "metadata": {},
   "outputs": [],
   "source": []
  }
 ],
 "metadata": {
  "kernelspec": {
   "display_name": "Python 3",
   "language": "python",
   "name": "python3"
  },
  "language_info": {
   "codemirror_mode": {
    "name": "ipython",
    "version": 3
   },
   "file_extension": ".py",
   "mimetype": "text/x-python",
   "name": "python",
   "nbconvert_exporter": "python",
   "pygments_lexer": "ipython3",
   "version": "3.13.3"
  }
 },
 "nbformat": 4,
 "nbformat_minor": 5
}
