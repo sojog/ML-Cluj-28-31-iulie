{
 "cells": [
  {
   "cell_type": "code",
   "execution_count": null,
   "id": "f640c3ca",
   "metadata": {},
   "outputs": [],
   "source": [
    "\n",
    "f = open(\"fisierul\")\n",
    "f.read()\n",
    "f.close()\n",
    "\n",
    "\n"
   ]
  },
  {
   "cell_type": "code",
   "execution_count": null,
   "id": "5547232d",
   "metadata": {},
   "outputs": [],
   "source": [
    "with open(\"fisierul\") as f:\n",
    "    f.read()"
   ]
  }
 ],
 "metadata": {
  "language_info": {
   "name": "python"
  }
 },
 "nbformat": 4,
 "nbformat_minor": 5
}
