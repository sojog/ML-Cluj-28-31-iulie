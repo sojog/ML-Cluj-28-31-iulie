{
 "cells": [
  {
   "cell_type": "code",
   "execution_count": 1,
   "id": "228ce2bd",
   "metadata": {},
   "outputs": [],
   "source": [
    "import random"
   ]
  },
  {
   "cell_type": "code",
   "execution_count": 8,
   "id": "d7d668f4",
   "metadata": {},
   "outputs": [
    {
     "data": {
      "text/plain": [
       "8"
      ]
     },
     "execution_count": 8,
     "metadata": {},
     "output_type": "execute_result"
    }
   ],
   "source": [
    "random.randint(1, 10)"
   ]
  },
  {
   "cell_type": "code",
   "execution_count": 19,
   "id": "56ac4454",
   "metadata": {},
   "outputs": [
    {
     "data": {
      "text/plain": [
       "0.5892918130602819"
      ]
     },
     "execution_count": 19,
     "metadata": {},
     "output_type": "execute_result"
    }
   ],
   "source": [
    "random.random()"
   ]
  },
  {
   "cell_type": "code",
   "execution_count": 20,
   "id": "16fc6d23",
   "metadata": {},
   "outputs": [],
   "source": [
    "import math as matematica"
   ]
  },
  {
   "cell_type": "code",
   "execution_count": 23,
   "id": "da37b545",
   "metadata": {},
   "outputs": [
    {
     "data": {
      "text/plain": [
       "3.141592653589793"
      ]
     },
     "execution_count": 23,
     "metadata": {},
     "output_type": "execute_result"
    }
   ],
   "source": [
    "matematica.pi"
   ]
  },
  {
   "cell_type": "code",
   "execution_count": 24,
   "id": "04fc2b3c",
   "metadata": {},
   "outputs": [],
   "source": [
    "from time import sleep"
   ]
  },
  {
   "cell_type": "code",
   "execution_count": 25,
   "id": "bc9aec45",
   "metadata": {},
   "outputs": [
    {
     "name": "stdout",
     "output_type": "stream",
     "text": [
      "Ceva .. apoi astept 3 secunde\n",
      "Altceva .. dupa 3 secunde\n"
     ]
    }
   ],
   "source": [
    "print(\"Ceva .. apoi astept 3 secunde\")\n",
    "sleep(3)\n",
    "print(\"Altceva .. dupa 3 secunde\")"
   ]
  },
  {
   "cell_type": "code",
   "execution_count": null,
   "id": "35abb33c",
   "metadata": {},
   "outputs": [],
   "source": []
  }
 ],
 "metadata": {
  "kernelspec": {
   "display_name": "Python 3",
   "language": "python",
   "name": "python3"
  },
  "language_info": {
   "codemirror_mode": {
    "name": "ipython",
    "version": 3
   },
   "file_extension": ".py",
   "mimetype": "text/x-python",
   "name": "python",
   "nbconvert_exporter": "python",
   "pygments_lexer": "ipython3",
   "version": "3.13.3"
  }
 },
 "nbformat": 4,
 "nbformat_minor": 5
}
